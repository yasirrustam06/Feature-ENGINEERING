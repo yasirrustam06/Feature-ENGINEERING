{
 "cells": [
  {
   "cell_type": "markdown",
   "id": "ed19f7c7",
   "metadata": {},
   "source": [
    "# Natural Log Transformation\n"
   ]
  },
  {
   "cell_type": "raw",
   "id": "939731a4",
   "metadata": {},
   "source": [
    "We’ve covered plenty of transformations! We have one last transformation we need to cover, and that is log transformations. Logarithms are an essential tool in statistical analysis and machine learning preparation. This transformation works well for right-skewed data and data with large outliers. After we log transform our data, one large benefit is that it will allow the data to be closer to a “normal” distribution. It also changes the scale so our data points will drastically reduce the range of their values."
   ]
  },
  {
   "cell_type": "code",
   "execution_count": 1,
   "id": "9e5a43f4",
   "metadata": {},
   "outputs": [],
   "source": [
    "import pandas as pd\n",
    "import numpy as np\n",
    "import matplotlib.pyplot as plt"
   ]
  },
  {
   "cell_type": "code",
   "execution_count": 3,
   "id": "4aef7420",
   "metadata": {},
   "outputs": [
    {
     "name": "stdout",
     "output_type": "stream",
     "text": [
      "  Car_Name  Year  Selling_Price  Present_Price  Kms_Driven Fuel_Type  \\\n",
      "0     ritz  2014           3.35           5.59       27000    Petrol   \n",
      "1      sx4  2013           4.75           9.54       43000    Diesel   \n",
      "2     ciaz  2017           7.25           9.85        6900    Petrol   \n",
      "3  wagon r  2011           2.85           4.15        5200    Petrol   \n",
      "4    swift  2014           4.60           6.87       42450    Diesel   \n",
      "\n",
      "  Seller_Type Transmission  Owner  \n",
      "0      Dealer       Manual      0  \n",
      "1      Dealer       Manual      0  \n",
      "2      Dealer       Manual      0  \n",
      "3      Dealer       Manual      0  \n",
      "4      Dealer       Manual      0  \n"
     ]
    }
   ],
   "source": [
    "cars = pd.read_csv(\"car data.csv\")\n",
    "print(cars.head())"
   ]
  },
  {
   "cell_type": "code",
   "execution_count": 4,
   "id": "254e9819",
   "metadata": {},
   "outputs": [
    {
     "name": "stdout",
     "output_type": "stream",
     "text": [
      "Index(['Car_Name', 'Year', 'Selling_Price', 'Present_Price', 'Kms_Driven',\n",
      "       'Fuel_Type', 'Seller_Type', 'Transmission', 'Owner'],\n",
      "      dtype='object')\n"
     ]
    }
   ],
   "source": [
    "print(cars.columns)"
   ]
  },
  {
   "cell_type": "code",
   "execution_count": 20,
   "id": "863754d4",
   "metadata": {},
   "outputs": [
    {
     "name": "stdout",
     "output_type": "stream",
     "text": [
      "0    27000\n",
      "1    43000\n",
      "2     6900\n",
      "3     5200\n",
      "4    42450\n",
      "Name: Kms_Driven, dtype: int64\n"
     ]
    }
   ],
   "source": [
    "kms_drv = cars['Kms_Driven']\n",
    "print(kms_drv.head())"
   ]
  },
  {
   "cell_type": "markdown",
   "id": "a402a072",
   "metadata": {},
   "source": [
    "#### plot the histograms "
   ]
  },
  {
   "cell_type": "code",
   "execution_count": 21,
   "id": "2437dac8",
   "metadata": {},
   "outputs": [
    {
     "data": {
      "image/png": "[encoded data removed]",
      "text/plain": [
       "<Figure size 432x288 with 1 Axes>"
      ]
     },
     "metadata": {
      "needs_background": "light"
     },
     "output_type": "display_data"
    }
   ],
   "source": [
    "plt.hist(kms_drv,bins=150,color='g')\n",
    "plt.show()"
   ]
  },
  {
   "cell_type": "raw",
   "id": "a967bed3",
   "metadata": {},
   "source": [
    "Looks good! Now perform a log transformation on that variable kms_drv and set the results to a variable called log_kmsdrv"
   ]
  },
  {
   "cell_type": "code",
   "execution_count": 22,
   "id": "bca2bf6a",
   "metadata": {},
   "outputs": [],
   "source": [
    "log_kmsdrv = np.log(kms_drv)\n"
   ]
  },
  {
   "cell_type": "code",
   "execution_count": 23,
   "id": "9fa9c2a0",
   "metadata": {},
   "outputs": [
    {
     "name": "stdout",
     "output_type": "stream",
     "text": [
      "0      10.203592\n",
      "1      10.668955\n",
      "2       8.839277\n",
      "3       8.556414\n",
      "4      10.656082\n",
      "         ...    \n",
      "296    10.433763\n",
      "297    11.002100\n",
      "298    11.384342\n",
      "299     9.104980\n",
      "300     8.605936\n",
      "Name: Kms_Driven, Length: 301, dtype: float64\n"
     ]
    }
   ],
   "source": [
    "print(log_kmsdrv)"
   ]
  },
  {
   "cell_type": "markdown",
   "id": "46a002af",
   "metadata": {},
   "source": [
    "Now plot the hist of your log_transformed data \n"
   ]
  },
  {
   "cell_type": "code",
   "execution_count": 25,
   "id": "ae9a7bf8",
   "metadata": {},
   "outputs": [
    {
     "data": {
      "image/png": "[encoded data removed]",
      "text/plain": [
       "<Figure size 432x288 with 1 Axes>"
      ]
     },
     "metadata": {
      "needs_background": "light"
     },
     "output_type": "display_data"
    }
   ],
   "source": [
    "plt.hist(log_kmsdrv,bins = 150 , color ='b')\n",
    "plt.show()"
   ]
  },
  {
   "cell_type": "code",
   "execution_count": null,
   "id": "6601c314",
   "metadata": {},
   "outputs": [],
   "source": []
  }
 ],
 "metadata": {
  "kernelspec": {
   "display_name": "Python 3 (ipykernel)",
   "language": "python",
   "name": "python3"
  },
  "language_info": {
   "codemirror_mode": {
    "name": "ipython",
    "version": 3
   },
   "file_extension": ".py",
   "mimetype": "text/x-python",
   "name": "python",
   "nbconvert_exporter": "python",
   "pygments_lexer": "ipython3",
   "version": "3.8.13"
  }
 },
 "nbformat": 4,
 "nbformat_minor": 5
}
