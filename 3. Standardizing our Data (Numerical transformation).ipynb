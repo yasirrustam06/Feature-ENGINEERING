{
 "cells": [
  {
   "cell_type": "markdown",
   "id": "8c59d8d7",
   "metadata": {},
   "source": [
    "# Standardizing our Data\n"
   ]
  },
  {
   "cell_type": "raw",
   "id": "5eb7ec2f",
   "metadata": {},
   "source": [
    "Excellent work with centering the age feature from our dataset! Now we’ll take that concept one step further and discuss standardizing our data. Standardization (also known as Z-Score normalization) is when we center our data, then divide it by the standard deviation. Once we do that, our entire data set will have a mean of zero and a standard deviation of one. Which is allowing all of our features to be on the same scale. How cool is that?"
   ]
  },
  {
   "cell_type": "raw",
   "id": "0c07150e",
   "metadata": {},
   "source": [
    "This step is critical because some machine learning models will treat all features equally regardless of their scale. You’ll definitely want to standardize your data in the following situations:\n",
    "\n",
    "1. Before Principal Component Analysis\n",
    "2. Before using any clustering or distance based algorithm (think KMeans or DBSCAN)\n",
    "3. Before KNN\n",
    "4. Before performing regularization methods like LASSO and Ridge"
   ]
  },
  {
   "cell_type": "markdown",
   "id": "80b4cc2e",
   "metadata": {},
   "source": [
    "Z-score  = value-mean/stdev\n"
   ]
  },
  {
   "cell_type": "code",
   "execution_count": 1,
   "id": "9047ed3d",
   "metadata": {},
   "outputs": [],
   "source": [
    "import pandas as pd\n",
    "import numpy as np\n",
    "import matplotlib.pyplot as plt"
   ]
  },
  {
   "cell_type": "code",
   "execution_count": 2,
   "id": "97a91453",
   "metadata": {},
   "outputs": [
    {
     "name": "stdout",
     "output_type": "stream",
     "text": [
      "        Name  Age  Income($)\n",
      "0        Rob   27      70000\n",
      "1    Michael   29      90000\n",
      "2      Mohan   29      61000\n",
      "3     Ismail   28      60000\n",
      "4       Kory   42     150000\n",
      "5     Gautam   39     155000\n",
      "6      David   41     160000\n",
      "7     Andrea   38     162000\n",
      "8       Brad   36     156000\n",
      "9   Angelina   35     130000\n",
      "10    Donald   37     137000\n",
      "11       Tom   26      45000\n",
      "12    Arnold   27      48000\n",
      "13     Jared   28      51000\n",
      "14     Stark   29      49500\n",
      "15    Ranbir   32      53000\n",
      "16    Dipika   40      65000\n",
      "17  Priyanka   41      63000\n",
      "18      Nick   43      64000\n",
      "19      Alia   39      80000\n",
      "20       Sid   41      82000\n",
      "21     Abdul   39      58000\n"
     ]
    }
   ],
   "source": [
    "df = pd.read_csv('income.csv')\n",
    "print(df)"
   ]
  },
  {
   "cell_type": "raw",
   "id": "067f34f1",
   "metadata": {},
   "source": [
    "1.Find the average of your variable ages and set the result to a variable called mean_age\n"
   ]
  },
  {
   "cell_type": "code",
   "execution_count": 3,
   "id": "6ee4ed09",
   "metadata": {},
   "outputs": [
    {
     "name": "stdout",
     "output_type": "stream",
     "text": [
      "Index(['Name', 'Age', 'Income($)'], dtype='object')\n"
     ]
    }
   ],
   "source": [
    "print(df.columns)"
   ]
  },
  {
   "cell_type": "code",
   "execution_count": 4,
   "id": "df385d5d",
   "metadata": {},
   "outputs": [
    {
     "name": "stdout",
     "output_type": "stream",
     "text": [
      "0     27\n",
      "1     29\n",
      "2     29\n",
      "3     28\n",
      "4     42\n",
      "5     39\n",
      "6     41\n",
      "7     38\n",
      "8     36\n",
      "9     35\n",
      "10    37\n",
      "11    26\n",
      "12    27\n",
      "13    28\n",
      "14    29\n",
      "15    32\n",
      "16    40\n",
      "17    41\n",
      "18    43\n",
      "19    39\n",
      "20    41\n",
      "21    39\n",
      "Name: Age, dtype: int64\n"
     ]
    }
   ],
   "source": [
    "ages = df['Age']\n",
    "print(ages)"
   ]
  },
  {
   "cell_type": "code",
   "execution_count": 5,
   "id": "fd312c89",
   "metadata": {},
   "outputs": [
    {
     "name": "stdout",
     "output_type": "stream",
     "text": [
      "34.81818181818182\n"
     ]
    }
   ],
   "source": [
    "mean_ages = np.mean(ages)\n",
    "print(mean_ages)"
   ]
  },
  {
   "cell_type": "raw",
   "id": "afdf57fd",
   "metadata": {},
   "source": [
    "2.Find the standard deviation of your variable ages and set the result to a variable called std_dev_age"
   ]
  },
  {
   "cell_type": "code",
   "execution_count": 6,
   "id": "463de136",
   "metadata": {},
   "outputs": [
    {
     "name": "stdout",
     "output_type": "stream",
     "text": [
      "5.7653854529847015\n"
     ]
    }
   ],
   "source": [
    "std_dev_ages = np.std(ages)\n",
    "print(std_dev_ages)\n"
   ]
  },
  {
   "cell_type": "raw",
   "id": "2f16d43a",
   "metadata": {},
   "source": [
    "3.Standardize our age column. Set the result to a variable called ages_standardized"
   ]
  },
  {
   "cell_type": "code",
   "execution_count": 8,
   "id": "b65ed48f",
   "metadata": {},
   "outputs": [
    {
     "name": "stdout",
     "output_type": "stream",
     "text": [
      "0    -1.356055\n",
      "1    -1.009157\n",
      "2    -1.009157\n",
      "3    -1.182606\n",
      "4     1.245679\n",
      "5     0.725332\n",
      "6     1.072230\n",
      "7     0.551883\n",
      "8     0.204985\n",
      "9     0.031536\n",
      "10    0.378434\n",
      "11   -1.529504\n",
      "12   -1.356055\n",
      "13   -1.182606\n",
      "14   -1.009157\n",
      "15   -0.488811\n",
      "16    0.898781\n",
      "17    1.072230\n",
      "18    1.419128\n",
      "19    0.725332\n",
      "20    1.072230\n",
      "21    0.725332\n",
      "Name: Age, dtype: float64\n"
     ]
    }
   ],
   "source": [
    "ages_standardized = (ages-mean_ages)/std_dev_ages\n",
    "print(ages_standardized)"
   ]
  },
  {
   "cell_type": "code",
   "execution_count": 9,
   "id": "eab729fa",
   "metadata": {},
   "outputs": [
    {
     "name": "stdout",
     "output_type": "stream",
     "text": [
      "-3.482063122687991e-16\n"
     ]
    }
   ],
   "source": [
    "print(np.mean(ages_standardized))\n"
   ]
  },
  {
   "cell_type": "code",
   "execution_count": 10,
   "id": "13083647",
   "metadata": {},
   "outputs": [
    {
     "name": "stdout",
     "output_type": "stream",
     "text": [
      "0.9999999999999999\n"
     ]
    }
   ],
   "source": [
    "print(np.std(ages_standardized))"
   ]
  },
  {
   "cell_type": "markdown",
   "id": "23aaa08e",
   "metadata": {},
   "source": [
    "Our outputs are basically mean = about 0  and standard deviation = about 1. Fantastic! Let’s see what our age feature looks like standardized."
   ]
  },
  {
   "cell_type": "code",
   "execution_count": null,
   "id": "67aed8e9",
   "metadata": {},
   "outputs": [],
   "source": []
  }
 ],
 "metadata": {
  "kernelspec": {
   "display_name": "Python 3 (ipykernel)",
   "language": "python",
   "name": "python3"
  },
  "language_info": {
   "codemirror_mode": {
    "name": "ipython",
    "version": 3
   },
   "file_extension": ".py",
   "mimetype": "text/x-python",
   "name": "python",
   "nbconvert_exporter": "python",
   "pygments_lexer": "ipython3",
   "version": "3.8.13"
  }
 },
 "nbformat": 4,
 "nbformat_minor": 5
}
