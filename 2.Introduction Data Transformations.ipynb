{
 "cells": [
  {
   "cell_type": "markdown",
   "id": "5e7c3156",
   "metadata": {},
   "source": [
    "### Find out what you will learn in Data Transformations for Feature Analysis!"
   ]
  },
  {
   "cell_type": "raw",
   "id": "6ff09769",
   "metadata": {},
   "source": [
    "In this module you will learn how to prepare your data and features prior to running a machine learning model. This is a very essential step that, if skipped, can cause some grief down the line. It is usually performed right after or alongside Exploratory Data Analysis (EDA)."
   ]
  },
  {
   "cell_type": "markdown",
   "id": "3f3512e5",
   "metadata": {},
   "source": [
    "###  Why did we build this?\n"
   ]
  },
  {
   "cell_type": "markdown",
   "id": "aa413668",
   "metadata": {},
   "source": [
    "Let’s take a moment to consider the consequence of not doing data transformations before a model implementation. An obvious one might be that the model code errors out. This is still a benign possibility as it tells you that something is wrong. The more insidious possibility is one where it doesn’t cause a problem until much later. Multiple diagnoses of many poorly performing models later, it might become apparent that the data might’ve needed to be transformed in some way at the beginning! Data Transformations are thus an irreplaceable step for data scientist in their workflows.\n",
    "\n"
   ]
  },
  {
   "cell_type": "markdown",
   "id": "d6f7eceb",
   "metadata": {},
   "source": [
    "# What will you learn?\n"
   ]
  },
  {
   "cell_type": "markdown",
   "id": "e2e05bb3",
   "metadata": {},
   "source": [
    "You’re going to learn about:\n",
    "\n",
    "1. numerical data transformations such as standardizing, binning, scaling, etc.\n",
    "2. different ways of encoding categorical and non-numerical data.\n",
    "3. when, where and how to apply these methods when presented with a dataset"
   ]
  },
  {
   "cell_type": "code",
   "execution_count": null,
   "id": "3f0d4a72",
   "metadata": {},
   "outputs": [],
   "source": []
  }
 ],
 "metadata": {
  "kernelspec": {
   "display_name": "Python 3 (ipykernel)",
   "language": "python",
   "name": "python3"
  },
  "language_info": {
   "codemirror_mode": {
    "name": "ipython",
    "version": 3
   },
   "file_extension": ".py",
   "mimetype": "text/x-python",
   "name": "python",
   "nbconvert_exporter": "python",
   "pygments_lexer": "ipython3",
   "version": "3.8.13"
  }
 },
 "nbformat": 4,
 "nbformat_minor": 5
}
