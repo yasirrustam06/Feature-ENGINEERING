{
 "cells": [
  {
   "cell_type": "markdown",
   "id": "df82d71d",
   "metadata": {},
   "source": [
    "# Introduction to Numerical Transformation"
   ]
  },
  {
   "cell_type": "markdown",
   "id": "7faeef09",
   "metadata": {},
   "source": [
    "### Theory and Concept "
   ]
  },
  {
   "cell_type": "raw",
   "id": "750be9d0",
   "metadata": {},
   "source": [
    "Some machine learning models, like logistic regression and neural networks, can only handle numbers. Then random forest and decision tree models can take both numbers and text. We will call these text features categorical data, but more on that later. We also need to understand the spread of our data, as some models have a tough time handling data that has extreme outliers."
   ]
  },
  {
   "cell_type": "raw",
   "id": "081d5035",
   "metadata": {},
   "source": [
    "This process is called numerical transformation, when we take our numerical data and change it into another numerical value. This is meant to change the scale of our values or even adjust the skewness of our data. You may be thinking, “we already have our data in numbers. Why would we want to change those?” Well, first of all, that is a great question. We’ll dive deep into the “why we do this” throughout this lesson. To put it simply, we do this to help our model better compare features and, most importantly, improve our model’s accuracy and interpretability. That sounds like some good reasons to put the time and effort into numerical transformations if I do say so myself."
   ]
  },
  {
   "cell_type": "raw",
   "id": "f76501fc",
   "metadata": {},
   "source": [
    "We’ll focus on the following numerical transformations:\n",
    "\n",
    "1. Centering\n",
    "2. Standard Scaler\n",
    "3. Min and Max Scaler\n",
    "4. Binning\n",
    "5. Log transformations"
   ]
  },
  {
   "cell_type": "markdown",
   "id": "5e990aff",
   "metadata": {},
   "source": [
    "# 1. Centering dataset"
   ]
  },
  {
   "cell_type": "code",
   "execution_count": 1,
   "id": "8a5972d0",
   "metadata": {},
   "outputs": [],
   "source": [
    "import pandas as pd"
   ]
  },
  {
   "cell_type": "code",
   "execution_count": 16,
   "id": "2a5c5e44",
   "metadata": {},
   "outputs": [
    {
     "name": "stdout",
     "output_type": "stream",
     "text": [
      "      Name  Age  Income($)\n",
      "0      Rob   27      70000\n",
      "1  Michael   29      90000\n",
      "2    Mohan   29      61000\n",
      "3   Ismail   28      60000\n",
      "4     Kory   42     150000\n"
     ]
    }
   ],
   "source": [
    "df = pd.read_csv(\"income.csv\")\n",
    "print(df.head())"
   ]
  },
  {
   "cell_type": "markdown",
   "id": "ea35bbe6",
   "metadata": {},
   "source": [
    "#### To view the columns "
   ]
  },
  {
   "cell_type": "code",
   "execution_count": 17,
   "id": "22359a14",
   "metadata": {},
   "outputs": [
    {
     "data": {
      "text/plain": [
       "Index(['Name', 'Age', 'Income($)'], dtype='object')"
      ]
     },
     "execution_count": 17,
     "metadata": {},
     "output_type": "execute_result"
    }
   ],
   "source": [
    "df.columns"
   ]
  },
  {
   "cell_type": "markdown",
   "id": "d447d405",
   "metadata": {},
   "source": [
    "#### To see all the features in our dataset"
   ]
  },
  {
   "cell_type": "code",
   "execution_count": 18,
   "id": "627e366b",
   "metadata": {},
   "outputs": [
    {
     "name": "stdout",
     "output_type": "stream",
     "text": [
      "<class 'pandas.core.frame.DataFrame'>\n",
      "RangeIndex: 22 entries, 0 to 21\n",
      "Data columns (total 3 columns):\n",
      " #   Column     Non-Null Count  Dtype \n",
      "---  ------     --------------  ----- \n",
      " 0   Name       22 non-null     object\n",
      " 1   Age        22 non-null     int64 \n",
      " 2   Income($)  22 non-null     int64 \n",
      "dtypes: int64(2), object(1)\n",
      "memory usage: 656.0+ bytes\n"
     ]
    }
   ],
   "source": [
    "df.info()"
   ]
  },
  {
   "cell_type": "markdown",
   "id": "4aa6f351",
   "metadata": {},
   "source": [
    "These are the features in our dataset"
   ]
  },
  {
   "cell_type": "markdown",
   "id": "b1126590",
   "metadata": {},
   "source": [
    "# Centering Your Data\n"
   ]
  },
  {
   "cell_type": "raw",
   "id": "40749fd7",
   "metadata": {},
   "source": [
    "Data centering involves subtracting the mean of a data set from each data point so that the new mean is 0. This process helps us understand how far above or below each of our data points is from the mean"
   ]
  },
  {
   "cell_type": "code",
   "execution_count": 19,
   "id": "77bce6eb",
   "metadata": {},
   "outputs": [
    {
     "name": "stdout",
     "output_type": "stream",
     "text": [
      "Index(['Name', 'Age', 'Income($)'], dtype='object')\n"
     ]
    }
   ],
   "source": [
    "print(df.columns)"
   ]
  },
  {
   "cell_type": "markdown",
   "id": "a73b9a26",
   "metadata": {},
   "source": [
    "#### Here we can Look on the Administration Column"
   ]
  },
  {
   "cell_type": "code",
   "execution_count": 26,
   "id": "5644325d",
   "metadata": {},
   "outputs": [
    {
     "name": "stdout",
     "output_type": "stream",
     "text": [
      "0      70000\n",
      "1      90000\n",
      "2      61000\n",
      "3      60000\n",
      "4     150000\n",
      "5     155000\n",
      "6     160000\n",
      "7     162000\n",
      "8     156000\n",
      "9     130000\n",
      "10    137000\n",
      "11     45000\n",
      "12     48000\n",
      "13     51000\n",
      "14     49500\n",
      "15     53000\n",
      "16     65000\n",
      "17     63000\n",
      "18     64000\n",
      "19     80000\n",
      "20     82000\n",
      "21     58000\n",
      "Name: Income($), dtype: int64\n"
     ]
    }
   ],
   "source": [
    "distance = df['Income($)']\n",
    "print(distance)"
   ]
  },
  {
   "cell_type": "raw",
   "id": "b339cda4",
   "metadata": {},
   "source": [
    "---> `Taking mean Of Our Administration Column`\n",
    "\n",
    "We will find the mean of our feature, create one line of code to center our data, and then plot the centered data. Here what it will look like in Python."
   ]
  },
  {
   "cell_type": "code",
   "execution_count": 27,
   "id": "da8cbca9",
   "metadata": {},
   "outputs": [
    {
     "name": "stdout",
     "output_type": "stream",
     "text": [
      "90431.81818181818\n"
     ]
    }
   ],
   "source": [
    "import numpy as np\n",
    "mean = np.mean(distance)\n",
    "print(mean)"
   ]
  },
  {
   "cell_type": "code",
   "execution_count": 28,
   "id": "f4b108b8",
   "metadata": {},
   "outputs": [
    {
     "name": "stdout",
     "output_type": "stream",
     "text": [
      "<class 'pandas.core.series.Series'>\n"
     ]
    }
   ],
   "source": [
    "print(type(distance))"
   ]
  },
  {
   "cell_type": "code",
   "execution_count": 29,
   "id": "ca85d361",
   "metadata": {},
   "outputs": [
    {
     "name": "stdout",
     "output_type": "stream",
     "text": [
      "0    -20431.818182\n",
      "1      -431.818182\n",
      "2    -29431.818182\n",
      "3    -30431.818182\n",
      "4     59568.181818\n",
      "5     64568.181818\n",
      "6     69568.181818\n",
      "7     71568.181818\n",
      "8     65568.181818\n",
      "9     39568.181818\n",
      "10    46568.181818\n",
      "11   -45431.818182\n",
      "12   -42431.818182\n",
      "13   -39431.818182\n",
      "14   -40931.818182\n",
      "15   -37431.818182\n",
      "16   -25431.818182\n",
      "17   -27431.818182\n",
      "18   -26431.818182\n",
      "19   -10431.818182\n",
      "20    -8431.818182\n",
      "21   -32431.818182\n",
      "Name: Income($), dtype: float64\n"
     ]
    }
   ],
   "source": [
    "#take our distance array and subtract the mean,\n",
    "#this will create a new series with the results\n",
    "Centered_Dist = distance-mean\n",
    "print(Centered_Dist)"
   ]
  },
  {
   "cell_type": "code",
   "execution_count": 31,
   "id": "99d82416",
   "metadata": {},
   "outputs": [
    {
     "data": {
      "image/png": "[encoded data removed]",
      "text/plain": [
       "<Figure size 432x288 with 1 Axes>"
      ]
     },
     "metadata": {
      "needs_background": "light"
     },
     "output_type": "display_data"
    }
   ],
   "source": [
    "import matplotlib.pyplot as plt\n",
    "#visualize your new list\n",
    "plt.hist(Centered_Dist,bins=5,color='b')\n",
    "plt.title(\"Income($) Distance Data Centered\")\n",
    "plt.xlabel(\"Distance From Mean\")\n",
    "plt.ylabel(\"Number Of Data points Or COUNTS\")\n",
    "plt.show()"
   ]
  },
  {
   "cell_type": "markdown",
   "id": "509ff90b",
   "metadata": {},
   "source": [
    "Now, look at that! Our data is centered at 0 and we can see the spread of our data, Or Spread Of Income($) Of customers  "
   ]
  },
  {
   "cell_type": "markdown",
   "id": "b7c48b1d",
   "metadata": {},
   "source": [
    "# Now lets look on our age column of our dataset"
   ]
  },
  {
   "cell_type": "code",
   "execution_count": 33,
   "id": "20fcc324",
   "metadata": {},
   "outputs": [
    {
     "data": {
      "text/plain": [
       "Index(['Name', 'Age', 'Income($)'], dtype='object')"
      ]
     },
     "execution_count": 33,
     "metadata": {},
     "output_type": "execute_result"
    }
   ],
   "source": [
    "df.columns"
   ]
  },
  {
   "cell_type": "code",
   "execution_count": 34,
   "id": "d717e342",
   "metadata": {},
   "outputs": [
    {
     "name": "stdout",
     "output_type": "stream",
     "text": [
      "0     27\n",
      "1     29\n",
      "2     29\n",
      "3     28\n",
      "4     42\n",
      "5     39\n",
      "6     41\n",
      "7     38\n",
      "8     36\n",
      "9     35\n",
      "10    37\n",
      "11    26\n",
      "12    27\n",
      "13    28\n",
      "14    29\n",
      "15    32\n",
      "16    40\n",
      "17    41\n",
      "18    43\n",
      "19    39\n",
      "20    41\n",
      "21    39\n",
      "Name: Age, dtype: int64\n"
     ]
    }
   ],
   "source": [
    "ages = df['Age']\n",
    "print(ages)"
   ]
  },
  {
   "cell_type": "raw",
   "id": "0063126f",
   "metadata": {},
   "source": [
    "1. First Print the minimum age of customers in our Age feature"
   ]
  },
  {
   "cell_type": "code",
   "execution_count": 40,
   "id": "ccba40f7",
   "metadata": {},
   "outputs": [
    {
     "name": "stdout",
     "output_type": "stream",
     "text": [
      "min_age:->  26\n"
     ]
    }
   ],
   "source": [
    "min_age = np.min(ages)\n",
    "print(\"min_age:-> \",min_age)"
   ]
  },
  {
   "cell_type": "raw",
   "id": "8b07af32",
   "metadata": {},
   "source": [
    " 2. Now print the maximum age of customers in our dataset age column or feature"
   ]
  },
  {
   "cell_type": "code",
   "execution_count": 39,
   "id": "d0ac948f",
   "metadata": {},
   "outputs": [
    {
     "name": "stdout",
     "output_type": "stream",
     "text": [
      "Maximum_age:->  43\n"
     ]
    }
   ],
   "source": [
    "max_age = np.max(ages)\n",
    "print(\"Maximum_age:-> \", max_age)"
   ]
  },
  {
   "cell_type": "raw",
   "id": "61136966",
   "metadata": {},
   "source": [
    "3.We want to better understand the spread of our data, so print the difference between min_age and max_age"
   ]
  },
  {
   "cell_type": "code",
   "execution_count": 41,
   "id": "7bb7d74e",
   "metadata": {},
   "outputs": [
    {
     "name": "stdout",
     "output_type": "stream",
     "text": [
      "ages_sub:->  17\n"
     ]
    }
   ],
   "source": [
    "ages_sub = max_age-min_age\n",
    "print(\"ages_sub:-> \",ages_sub)"
   ]
  },
  {
   "cell_type": "code",
   "execution_count": 42,
   "id": "4972e876",
   "metadata": {},
   "outputs": [
    {
     "name": "stdout",
     "output_type": "stream",
     "text": [
      "34.81818181818182\n"
     ]
    }
   ],
   "source": [
    "print(np.mean(ages))"
   ]
  },
  {
   "cell_type": "raw",
   "id": "e07d2f40",
   "metadata": {},
   "source": [
    "4. Now lets take the mean of ages "
   ]
  },
  {
   "cell_type": "code",
   "execution_count": 43,
   "id": "45980685",
   "metadata": {},
   "outputs": [
    {
     "name": "stdout",
     "output_type": "stream",
     "text": [
      "mean_ages:  34.81818181818182\n"
     ]
    }
   ],
   "source": [
    "mean_ages = np.mean(ages)\n",
    "print(\"mean_ages: \", mean_ages)"
   ]
  },
  {
   "cell_type": "raw",
   "id": "9ee0c79d",
   "metadata": {},
   "source": [
    "5.Let’s center our data! Set the result to a variable called centered_ages and print the results."
   ]
  },
  {
   "cell_type": "code",
   "execution_count": 44,
   "id": "3c09453e",
   "metadata": {},
   "outputs": [
    {
     "name": "stdout",
     "output_type": "stream",
     "text": [
      "centered_ages: 0    -7.818182\n",
      "1    -5.818182\n",
      "2    -5.818182\n",
      "3    -6.818182\n",
      "4     7.181818\n",
      "5     4.181818\n",
      "6     6.181818\n",
      "7     3.181818\n",
      "8     1.181818\n",
      "9     0.181818\n",
      "10    2.181818\n",
      "11   -8.818182\n",
      "12   -7.818182\n",
      "13   -6.818182\n",
      "14   -5.818182\n",
      "15   -2.818182\n",
      "16    5.181818\n",
      "17    6.181818\n",
      "18    8.181818\n",
      "19    4.181818\n",
      "20    6.181818\n",
      "21    4.181818\n",
      "Name: Age, dtype: float64\n"
     ]
    }
   ],
   "source": [
    "centered_ages = ages-mean_ages\n",
    "print(\"centered_ages:\",centered_ages)\n"
   ]
  },
  {
   "cell_type": "raw",
   "id": "8a07bad5",
   "metadata": {},
   "source": [
    "6.Plot your centered data as a histogram."
   ]
  },
  {
   "cell_type": "code",
   "execution_count": 46,
   "id": "dd538623",
   "metadata": {},
   "outputs": [
    {
     "data": {
      "image/png": "[encoded data removed]",
      "text/plain": [
       "<Figure size 432x288 with 1 Axes>"
      ]
     },
     "metadata": {
      "needs_background": "light"
     },
     "output_type": "display_data"
    }
   ],
   "source": [
    "plt.hist(centered_ages,color='g')\n",
    "plt.show()"
   ]
  },
  {
   "cell_type": "code",
   "execution_count": null,
   "id": "0521a1a0",
   "metadata": {},
   "outputs": [],
   "source": []
  }
 ],
 "metadata": {
  "kernelspec": {
   "display_name": "Python 3 (ipykernel)",
   "language": "python",
   "name": "python3"
  },
  "language_info": {
   "codemirror_mode": {
    "name": "ipython",
    "version": 3
   },
   "file_extension": ".py",
   "mimetype": "text/x-python",
   "name": "python",
   "nbconvert_exporter": "python",
   "pygments_lexer": "ipython3",
   "version": "3.8.13"
  }
 },
 "nbformat": 4,
 "nbformat_minor": 5
}
