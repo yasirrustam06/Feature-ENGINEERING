{
 "cells": [
  {
   "cell_type": "markdown",
   "id": "f70a7afd",
   "metadata": {},
   "source": [
    "\n",
    "# Standardizing our Data with Sklearn"
   ]
  },
  {
   "cell_type": "raw",
   "id": "b208a175",
   "metadata": {},
   "source": [
    "Now that we understand the mathematics behind a standard scaler let’s quickly implement it with the sklearn library. We will begin by importing our StandardScaler library from sklearn.preprocessing."
   ]
  },
  {
   "cell_type": "code",
   "execution_count": 5,
   "id": "57e81f94",
   "metadata": {},
   "outputs": [],
   "source": [
    "import numpy as np\n",
    "import pandas as pd\n",
    "from sklearn.preprocessing import StandardScaler"
   ]
  },
  {
   "cell_type": "code",
   "execution_count": 6,
   "id": "98cf9aea",
   "metadata": {},
   "outputs": [
    {
     "name": "stdout",
     "output_type": "stream",
     "text": [
      "      Name  Age  Income($)\n",
      "0      Rob   27      70000\n",
      "1  Michael   29      90000\n",
      "2    Mohan   29      61000\n",
      "3   Ismail   28      60000\n",
      "4     Kory   42     150000\n"
     ]
    }
   ],
   "source": [
    "df=pd.read_csv(\"income.csv\")\n",
    "print(df.head())"
   ]
  },
  {
   "cell_type": "code",
   "execution_count": 7,
   "id": "ea6baedc",
   "metadata": {},
   "outputs": [
    {
     "name": "stdout",
     "output_type": "stream",
     "text": [
      "        Name  Age  Income($)\n",
      "17  Priyanka   41      63000\n",
      "18      Nick   43      64000\n",
      "19      Alia   39      80000\n",
      "20       Sid   41      82000\n",
      "21     Abdul   39      58000\n"
     ]
    }
   ],
   "source": [
    "print(df.tail())"
   ]
  },
  {
   "cell_type": "code",
   "execution_count": 9,
   "id": "db05fb68",
   "metadata": {},
   "outputs": [
    {
     "name": "stdout",
     "output_type": "stream",
     "text": [
      "Index(['Name', 'Age', 'Income($)'], dtype='object')\n"
     ]
    }
   ],
   "source": [
    "print(df.columns)"
   ]
  },
  {
   "cell_type": "code",
   "execution_count": 10,
   "id": "f03f53b4",
   "metadata": {},
   "outputs": [
    {
     "name": "stdout",
     "output_type": "stream",
     "text": [
      "34.81818181818182\n"
     ]
    }
   ],
   "source": [
    "ages = df['Age']\n",
    "print(np.mean(ages))\n"
   ]
  },
  {
   "cell_type": "code",
   "execution_count": 11,
   "id": "913b8732",
   "metadata": {},
   "outputs": [
    {
     "name": "stdout",
     "output_type": "stream",
     "text": [
      "5.7653854529847015\n"
     ]
    }
   ],
   "source": [
    "print(np.std(ages))"
   ]
  },
  {
   "cell_type": "raw",
   "id": "bdfe17ca",
   "metadata": {},
   "source": [
    "1. Now lets Standardizing our data and then print the mean and std of our transformed data "
   ]
  },
  {
   "cell_type": "code",
   "execution_count": 8,
   "id": "363d7db3",
   "metadata": {},
   "outputs": [
    {
     "data": {
      "text/html": [
       "<style>#sk-container-id-1 {color: black;background-color: white;}#sk-container-id-1 pre{padding: 0;}#sk-container-id-1 div.sk-toggleable {background-color: white;}#sk-container-id-1 label.sk-toggleable__label {cursor: pointer;display: block;width: 100%;margin-bottom: 0;padding: 0.3em;box-sizing: border-box;text-align: center;}#sk-container-id-1 label.sk-toggleable__label-arrow:before {content: \"▸\";float: left;margin-right: 0.25em;color: #696969;}#sk-container-id-1 label.sk-toggleable__label-arrow:hover:before {color: black;}#sk-container-id-1 div.sk-estimator:hover label.sk-toggleable__label-arrow:before {color: black;}#sk-container-id-1 div.sk-toggleable__content {max-height: 0;max-width: 0;overflow: hidden;text-align: left;background-color: #f0f8ff;}#sk-container-id-1 div.sk-toggleable__content pre {margin: 0.2em;color: black;border-radius: 0.25em;background-color: #f0f8ff;}#sk-container-id-1 input.sk-toggleable__control:checked~div.sk-toggleable__content {max-height: 200px;max-width: 100%;overflow: auto;}#sk-container-id-1 input.sk-toggleable__control:checked~label.sk-toggleable__label-arrow:before {content: \"▾\";}#sk-container-id-1 div.sk-estimator input.sk-toggleable__control:checked~label.sk-toggleable__label {background-color: #d4ebff;}#sk-container-id-1 div.sk-label input.sk-toggleable__control:checked~label.sk-toggleable__label {background-color: #d4ebff;}#sk-container-id-1 input.sk-hidden--visually {border: 0;clip: rect(1px 1px 1px 1px);clip: rect(1px, 1px, 1px, 1px);height: 1px;margin: -1px;overflow: hidden;padding: 0;position: absolute;width: 1px;}#sk-container-id-1 div.sk-estimator {font-family: monospace;background-color: #f0f8ff;border: 1px dotted black;border-radius: 0.25em;box-sizing: border-box;margin-bottom: 0.5em;}#sk-container-id-1 div.sk-estimator:hover {background-color: #d4ebff;}#sk-container-id-1 div.sk-parallel-item::after {content: \"\";width: 100%;border-bottom: 1px solid gray;flex-grow: 1;}#sk-container-id-1 div.sk-label:hover label.sk-toggleable__label {background-color: #d4ebff;}#sk-container-id-1 div.sk-serial::before {content: \"\";position: absolute;border-left: 1px solid gray;box-sizing: border-box;top: 0;bottom: 0;left: 50%;z-index: 0;}#sk-container-id-1 div.sk-serial {display: flex;flex-direction: column;align-items: center;background-color: white;padding-right: 0.2em;padding-left: 0.2em;position: relative;}#sk-container-id-1 div.sk-item {position: relative;z-index: 1;}#sk-container-id-1 div.sk-parallel {display: flex;align-items: stretch;justify-content: center;background-color: white;position: relative;}#sk-container-id-1 div.sk-item::before, #sk-container-id-1 div.sk-parallel-item::before {content: \"\";position: absolute;border-left: 1px solid gray;box-sizing: border-box;top: 0;bottom: 0;left: 50%;z-index: -1;}#sk-container-id-1 div.sk-parallel-item {display: flex;flex-direction: column;z-index: 1;position: relative;background-color: white;}#sk-container-id-1 div.sk-parallel-item:first-child::after {align-self: flex-end;width: 50%;}#sk-container-id-1 div.sk-parallel-item:last-child::after {align-self: flex-start;width: 50%;}#sk-container-id-1 div.sk-parallel-item:only-child::after {width: 0;}#sk-container-id-1 div.sk-dashed-wrapped {border: 1px dashed gray;margin: 0 0.4em 0.5em 0.4em;box-sizing: border-box;padding-bottom: 0.4em;background-color: white;}#sk-container-id-1 div.sk-label label {font-family: monospace;font-weight: bold;display: inline-block;line-height: 1.2em;}#sk-container-id-1 div.sk-label-container {text-align: center;}#sk-container-id-1 div.sk-container {/* jupyter's `normalize.less` sets `[hidden] { display: none; }` but bootstrap.min.css set `[hidden] { display: none !important; }` so we also need the `!important` here to be able to override the default hidden behavior on the sphinx rendered scikit-learn.org. See: https://github.com/scikit-learn/scikit-learn/issues/21755 */display: inline-block !important;position: relative;}#sk-container-id-1 div.sk-text-repr-fallback {display: none;}</style><div id=\"sk-container-id-1\" class=\"sk-top-container\"><div class=\"sk-text-repr-fallback\"><pre>StandardScaler()</pre><b>In a Jupyter environment, please rerun this cell to show the HTML representation or trust the notebook. <br />On GitHub, the HTML representation is unable to render, please try loading this page with nbviewer.org.</b></div><div class=\"sk-container\" hidden><div class=\"sk-item\"><div class=\"sk-estimator sk-toggleable\"><input class=\"sk-toggleable__control sk-hidden--visually\" id=\"sk-estimator-id-1\" type=\"checkbox\" checked><label for=\"sk-estimator-id-1\" class=\"sk-toggleable__label sk-toggleable__label-arrow\">StandardScaler</label><div class=\"sk-toggleable__content\"><pre>StandardScaler()</pre></div></div></div></div></div>"
      ],
      "text/plain": [
       "StandardScaler()"
      ]
     },
     "execution_count": 8,
     "metadata": {},
     "output_type": "execute_result"
    }
   ],
   "source": [
    "scaler = StandardScaler()\n",
    "scaler"
   ]
  },
  {
   "cell_type": "markdown",
   "id": "2eb958af",
   "metadata": {},
   "source": [
    "we create the acaler object which we will use to transform our dataset "
   ]
  },
  {
   "cell_type": "raw",
   "id": "ed061ae7",
   "metadata": {},
   "source": [
    "2.  The next step is to reshape our ages array. StandardScaler must take in our array as 1 column, so we’ll reshape our ages array using the .reshape(-1,1) method. "
   ]
  },
  {
   "cell_type": "code",
   "execution_count": 19,
   "id": "be7fa898",
   "metadata": {},
   "outputs": [
    {
     "name": "stdout",
     "output_type": "stream",
     "text": [
      "[[-1.35605536]\n",
      " [-1.00915747]\n",
      " [-1.00915747]\n",
      " [-1.18260641]\n",
      " [ 1.24567876]\n",
      " [ 0.72533193]\n",
      " [ 1.07222982]\n",
      " [ 0.55188299]\n",
      " [ 0.20498511]\n",
      " [ 0.03153617]\n",
      " [ 0.37843405]\n",
      " [-1.5295043 ]\n",
      " [-1.35605536]\n",
      " [-1.18260641]\n",
      " [-1.00915747]\n",
      " [-0.48881065]\n",
      " [ 0.89878087]\n",
      " [ 1.07222982]\n",
      " [ 1.4191277 ]\n",
      " [ 0.72533193]\n",
      " [ 1.07222982]\n",
      " [ 0.72533193]]\n"
     ]
    }
   ],
   "source": [
    "ages_reshaped = np.array(ages).reshape(-1,1)\n",
    "ages_scaled = scaler.fit_transform(ages_reshaped)\n",
    "print(ages_scaled)"
   ]
  },
  {
   "cell_type": "raw",
   "id": "0d1c6e9e",
   "metadata": {},
   "source": [
    "3. now lets print the mean and std of our transformed data"
   ]
  },
  {
   "cell_type": "code",
   "execution_count": 20,
   "id": "3ed20a8b",
   "metadata": {},
   "outputs": [
    {
     "name": "stdout",
     "output_type": "stream",
     "text": [
      "distance_scaler:  -3.482063122687991e-16\n"
     ]
    }
   ],
   "source": [
    "print(\"distance_scaler: \",np.mean(ages_scaled))"
   ]
  },
  {
   "cell_type": "markdown",
   "id": "a18b07aa",
   "metadata": {},
   "source": [
    "you can see it is about close to zero... \n",
    "Pretty cool, right?"
   ]
  },
  {
   "cell_type": "code",
   "execution_count": 21,
   "id": "1be4c8b8",
   "metadata": {},
   "outputs": [
    {
     "name": "stdout",
     "output_type": "stream",
     "text": [
      "distance_scaler:  0.9999999999999999\n"
     ]
    }
   ],
   "source": [
    "print(\"distance_scaler: \",np.std(ages_scaled))\n"
   ]
  },
  {
   "cell_type": "markdown",
   "id": "898ad40b",
   "metadata": {},
   "source": [
    "Pretty cool out std is closes to 1 according to our requirements "
   ]
  },
  {
   "cell_type": "code",
   "execution_count": null,
   "id": "3fd46217",
   "metadata": {},
   "outputs": [],
   "source": []
  },
  {
   "cell_type": "code",
   "execution_count": null,
   "id": "f29c5818",
   "metadata": {},
   "outputs": [],
   "source": []
  }
 ],
 "metadata": {
  "kernelspec": {
   "display_name": "Python 3 (ipykernel)",
   "language": "python",
   "name": "python3"
  },
  "language_info": {
   "codemirror_mode": {
    "name": "ipython",
    "version": 3
   },
   "file_extension": ".py",
   "mimetype": "text/x-python",
   "name": "python",
   "nbconvert_exporter": "python",
   "pygments_lexer": "ipython3",
   "version": "3.8.13"
  }
 },
 "nbformat": 4,
 "nbformat_minor": 5
}
