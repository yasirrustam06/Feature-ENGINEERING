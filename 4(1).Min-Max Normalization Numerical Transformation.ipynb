{
 "cells": [
  {
   "cell_type": "markdown",
   "id": "e1daf824",
   "metadata": {},
   "source": [
    "# Min-Max Normalization\n"
   ]
  },
  {
   "cell_type": "markdown",
   "id": "91838ec6",
   "metadata": {},
   "source": [
    "Another form of scaling your data is to use a min-max normalization process. The name says it all, we find the minimum and maximum data point in our entire data set and set each of those to 0 and 1, respectively. Then the rest of the data points will transform to a number between 0 and 1, depending on its distance between the minimum and maximum number. We find that transformed number by taking the data point subtracting it from the minimum point, then dividing by the value of our maximum minus minimum.\n",
    "\n",
    "Mathematically a min-max normalization looks like this:"
   ]
  },
  {
   "cell_type": "markdown",
   "id": "6dcbe33b",
   "metadata": {},
   "source": [
    "X_norm = (X-X_min)/(X_max-X_min)"
   ]
  },
  {
   "cell_type": "code",
   "execution_count": null,
   "id": "fd45f749",
   "metadata": {},
   "outputs": [],
   "source": []
  },
  {
   "cell_type": "code",
   "execution_count": null,
   "id": "2daf3b6c",
   "metadata": {},
   "outputs": [],
   "source": []
  },
  {
   "cell_type": "code",
   "execution_count": 1,
   "id": "bf0f07f9",
   "metadata": {},
   "outputs": [],
   "source": [
    "import pandas as pd\n",
    "import numpy as np\n",
    "import matplotlib.pyplot as plt"
   ]
  },
  {
   "cell_type": "code",
   "execution_count": null,
   "id": "b91ce0cf",
   "metadata": {},
   "outputs": [],
   "source": []
  },
  {
   "cell_type": "code",
   "execution_count": 6,
   "id": "1f35b270",
   "metadata": {},
   "outputs": [
    {
     "data": {
      "text/plain": [
       "Index(['Name', 'Age', 'Income($)'], dtype='object')"
      ]
     },
     "execution_count": 6,
     "metadata": {},
     "output_type": "execute_result"
    }
   ],
   "source": [
    "df = pd.read_csv('income.csv')\n",
    "df.columns"
   ]
  },
  {
   "cell_type": "code",
   "execution_count": 7,
   "id": "d773b098",
   "metadata": {},
   "outputs": [
    {
     "name": "stdout",
     "output_type": "stream",
     "text": [
      "0      70000\n",
      "1      90000\n",
      "2      61000\n",
      "3      60000\n",
      "4     150000\n",
      "5     155000\n",
      "6     160000\n",
      "7     162000\n",
      "8     156000\n",
      "9     130000\n",
      "10    137000\n",
      "11     45000\n",
      "12     48000\n",
      "13     51000\n",
      "14     49500\n",
      "15     53000\n",
      "16     65000\n",
      "17     63000\n",
      "18     64000\n",
      "19     80000\n",
      "20     82000\n",
      "21     58000\n",
      "Name: Income($), dtype: int64\n"
     ]
    }
   ],
   "source": [
    "income = df['Income($)']\n",
    "print(income)"
   ]
  },
  {
   "cell_type": "raw",
   "id": "7aa90db9",
   "metadata": {},
   "source": [
    "1.Find the Min of income "
   ]
  },
  {
   "cell_type": "code",
   "execution_count": 8,
   "id": "33108969",
   "metadata": {},
   "outputs": [
    {
     "name": "stdout",
     "output_type": "stream",
     "text": [
      "45000\n"
     ]
    }
   ],
   "source": [
    "min_income = np.min(income)\n",
    "print(min_income)"
   ]
  },
  {
   "cell_type": "raw",
   "id": "2de1fe43",
   "metadata": {},
   "source": [
    "2. print max income"
   ]
  },
  {
   "cell_type": "code",
   "execution_count": 9,
   "id": "501782ca",
   "metadata": {},
   "outputs": [
    {
     "name": "stdout",
     "output_type": "stream",
     "text": [
      "162000\n"
     ]
    }
   ],
   "source": [
    "max_income = np.max(income)\n",
    "print(max_income)\n"
   ]
  },
  {
   "cell_type": "raw",
   "id": "e8e03001",
   "metadata": {},
   "source": [
    "3.Find the range between min_income and max_income"
   ]
  },
  {
   "cell_type": "code",
   "execution_count": 10,
   "id": "cfab3d22",
   "metadata": {},
   "outputs": [
    {
     "name": "stdout",
     "output_type": "stream",
     "text": [
      "117000\n"
     ]
    }
   ],
   "source": [
    "income_range = max_income-min_income\n",
    "print(income_range)"
   ]
  },
  {
   "cell_type": "raw",
   "id": "9554ba5e",
   "metadata": {},
   "source": [
    "4.Normalize your Income  column. Set the results to a variable called spent_normalized"
   ]
  },
  {
   "cell_type": "code",
   "execution_count": 11,
   "id": "9c27db8b",
   "metadata": {},
   "outputs": [
    {
     "name": "stdout",
     "output_type": "stream",
     "text": [
      "0     0.213675\n",
      "1     0.384615\n",
      "2     0.136752\n",
      "3     0.128205\n",
      "4     0.897436\n",
      "5     0.940171\n",
      "6     0.982906\n",
      "7     1.000000\n",
      "8     0.948718\n",
      "9     0.726496\n",
      "10    0.786325\n",
      "11    0.000000\n",
      "12    0.025641\n",
      "13    0.051282\n",
      "14    0.038462\n",
      "15    0.068376\n",
      "16    0.170940\n",
      "17    0.153846\n",
      "18    0.162393\n",
      "19    0.299145\n",
      "20    0.316239\n",
      "21    0.111111\n",
      "Name: Income($), dtype: float64\n"
     ]
    }
   ],
   "source": [
    "Norm_income = (income-min_income)/income_range\n",
    "print(Norm_income)"
   ]
  },
  {
   "cell_type": "code",
   "execution_count": 15,
   "id": "38931a00",
   "metadata": {},
   "outputs": [
    {
     "name": "stdout",
     "output_type": "stream",
     "text": [
      "0.0\n"
     ]
    }
   ],
   "source": [
    "print(np.min(Norm_income))"
   ]
  },
  {
   "cell_type": "code",
   "execution_count": 16,
   "id": "ab81fe3e",
   "metadata": {},
   "outputs": [
    {
     "name": "stdout",
     "output_type": "stream",
     "text": [
      "1.0\n"
     ]
    }
   ],
   "source": [
    "print(np.max(Norm_income))"
   ]
  },
  {
   "cell_type": "markdown",
   "id": "2851111f",
   "metadata": {},
   "source": [
    "# Min-Max Normalization with Sklearn"
   ]
  },
  {
   "cell_type": "raw",
   "id": "736d0324",
   "metadata": {},
   "source": [
    "Happy to see you now have a strong understanding of how a Min-Max Normalization works, let’s try implementing it with the sklearn library.\n",
    "\n",
    "We will start by importing our MinMaxScaler library from sklearn.preprocessing. Just like we covered in the StandardScaler exercise, we start by instantiating the MinMaxScaler by setting it to a variable called mmscaler which we can then use to transform our feature."
   ]
  },
  {
   "cell_type": "code",
   "execution_count": 14,
   "id": "3f8b0808",
   "metadata": {},
   "outputs": [],
   "source": [
    "from sklearn.preprocessing import MinMaxScaler\n",
    "SCALER = MinMaxScaler()\n"
   ]
  },
  {
   "cell_type": "code",
   "execution_count": 17,
   "id": "628372f3",
   "metadata": {},
   "outputs": [
    {
     "data": {
      "text/plain": [
       "0      70000\n",
       "1      90000\n",
       "2      61000\n",
       "3      60000\n",
       "4     150000\n",
       "5     155000\n",
       "6     160000\n",
       "7     162000\n",
       "8     156000\n",
       "9     130000\n",
       "10    137000\n",
       "11     45000\n",
       "12     48000\n",
       "13     51000\n",
       "14     49500\n",
       "15     53000\n",
       "16     65000\n",
       "17     63000\n",
       "18     64000\n",
       "19     80000\n",
       "20     82000\n",
       "21     58000\n",
       "Name: Income($), dtype: int64"
      ]
     },
     "execution_count": 17,
     "metadata": {},
     "output_type": "execute_result"
    }
   ],
   "source": [
    "income"
   ]
  },
  {
   "cell_type": "code",
   "execution_count": 18,
   "id": "105375a7",
   "metadata": {},
   "outputs": [
    {
     "name": "stdout",
     "output_type": "stream",
     "text": [
      "162000\n"
     ]
    }
   ],
   "source": [
    "print(np.max(income))"
   ]
  },
  {
   "cell_type": "code",
   "execution_count": 19,
   "id": "2dc94494",
   "metadata": {},
   "outputs": [
    {
     "name": "stdout",
     "output_type": "stream",
     "text": [
      "45000\n"
     ]
    }
   ],
   "source": [
    "print(np.min(income))"
   ]
  },
  {
   "cell_type": "code",
   "execution_count": 20,
   "id": "6442876a",
   "metadata": {},
   "outputs": [
    {
     "name": "stdout",
     "output_type": "stream",
     "text": [
      "[[0.21367521]\n",
      " [0.38461538]\n",
      " [0.13675214]\n",
      " [0.12820513]\n",
      " [0.8974359 ]\n",
      " [0.94017094]\n",
      " [0.98290598]\n",
      " [1.        ]\n",
      " [0.94871795]\n",
      " [0.72649573]\n",
      " [0.78632479]\n",
      " [0.        ]\n",
      " [0.02564103]\n",
      " [0.05128205]\n",
      " [0.03846154]\n",
      " [0.06837607]\n",
      " [0.17094017]\n",
      " [0.15384615]\n",
      " [0.16239316]\n",
      " [0.2991453 ]\n",
      " [0.31623932]\n",
      " [0.11111111]]\n"
     ]
    }
   ],
   "source": [
    "reshaped_income = np.array(income).reshape(-1,1)\n",
    "scaled_reshaped = SCALER.fit_transform(reshaped_income)\n",
    "print(scaled_reshaped)"
   ]
  },
  {
   "cell_type": "code",
   "execution_count": 21,
   "id": "159162e7",
   "metadata": {},
   "outputs": [
    {
     "name": "stdout",
     "output_type": "stream",
     "text": [
      "0.0\n"
     ]
    }
   ],
   "source": [
    "print(np.min(scaled_reshaped))"
   ]
  },
  {
   "cell_type": "code",
   "execution_count": 22,
   "id": "1e6144de",
   "metadata": {},
   "outputs": [
    {
     "name": "stdout",
     "output_type": "stream",
     "text": [
      "1.0000000000000002\n"
     ]
    }
   ],
   "source": [
    "print(np.max(scaled_reshaped))"
   ]
  },
  {
   "cell_type": "markdown",
   "id": "5f455961",
   "metadata": {},
   "source": [
    "COOOLL"
   ]
  },
  {
   "cell_type": "code",
   "execution_count": null,
   "id": "e408a78c",
   "metadata": {},
   "outputs": [],
   "source": []
  }
 ],
 "metadata": {
  "kernelspec": {
   "display_name": "Python 3 (ipykernel)",
   "language": "python",
   "name": "python3"
  },
  "language_info": {
   "codemirror_mode": {
    "name": "ipython",
    "version": 3
   },
   "file_extension": ".py",
   "mimetype": "text/x-python",
   "name": "python",
   "nbconvert_exporter": "python",
   "pygments_lexer": "ipython3",
   "version": "3.8.13"
  }
 },
 "nbformat": 4,
 "nbformat_minor": 5
}
